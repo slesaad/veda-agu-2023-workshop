{
 "cells": [
  {
   "attachments": {},
   "cell_type": "markdown",
   "metadata": {},
   "source": [
    "# Using the NASA VEDA EOAPI\n",
    "\n",
    "This notebook is divided into two parts, each demonstrating the functionalities of the VEDA EOAPI.\n",
    "1. Reading and visualizing one of the datasets from the VEDA data catalog.\n",
    "2. Using the EOAPI to generate a time-series of OMI (Ozone Monitoring Instrument) NO₂ and SO₂ datasets\n",
    "\n",
    "Author: Slesa Adhikari"
   ]
  },
  {
   "attachments": {},
   "cell_type": "markdown",
   "metadata": {},
   "source": [
    "#### 1. Reading and visualizing one of the datasets from the VEDA data catalog"
   ]
  },
  {
   "attachments": {},
   "cell_type": "markdown",
   "metadata": {},
   "source": [
    "**Import all the necesssary libraries**\n",
    "\n",
    "Make sure you install these first using:\n",
    "\n",
    "```bash\n",
    "pip install pystac_client folium seaborn pandas\n",
    "```"
   ]
  },
  {
   "cell_type": "code",
   "execution_count": 3,
   "metadata": {},
   "outputs": [
    {
     "ename": "ModuleNotFoundError",
     "evalue": "No module named 'pystac_client'",
     "output_type": "error",
     "traceback": [
      "\u001b[0;31m---------------------------------------------------------------------------\u001b[0m",
      "\u001b[0;31mModuleNotFoundError\u001b[0m                       Traceback (most recent call last)",
      "Cell \u001b[0;32mIn[3], line 3\u001b[0m\n\u001b[1;32m      1\u001b[0m \u001b[39m# imports\u001b[39;00m\n\u001b[1;32m      2\u001b[0m \u001b[39mimport\u001b[39;00m \u001b[39mrequests\u001b[39;00m\n\u001b[0;32m----> 3\u001b[0m \u001b[39mfrom\u001b[39;00m \u001b[39mpystac_client\u001b[39;00m \u001b[39mimport\u001b[39;00m Client\n\u001b[1;32m      4\u001b[0m \u001b[39mimport\u001b[39;00m \u001b[39mfolium\u001b[39;00m\n\u001b[1;32m      5\u001b[0m \u001b[39mimport\u001b[39;00m \u001b[39mseaborn\u001b[39;00m \u001b[39mas\u001b[39;00m \u001b[39msns\u001b[39;00m\n",
      "\u001b[0;31mModuleNotFoundError\u001b[0m: No module named 'pystac_client'"
     ]
    }
   ],
   "source": [
    "# imports\n",
    "import requests\n",
    "from pystac_client import Client\n",
    "import folium\n",
    "import seaborn as sns\n",
    "import matplotlib.pyplot as plt\n",
    "import pandas as pd"
   ]
  },
  {
   "attachments": {},
   "cell_type": "markdown",
   "metadata": {},
   "source": [
    "**Define the API endpoints**\n",
    "\n",
    "The EOAPI is a combination of two components.\n",
    "1. Data catalog - the [SpatioTemporal Asset Catalog (STAC)](https://stacspec.org/en/) specification is used to catalog the available datasets\n",
    "2. Dynamic tile server - [TiTiler](https://developmentseed.org/titiler/) is used to dynamically serve cloud optimized geotiff (raster) data files"
   ]
  },
  {
   "cell_type": "code",
   "execution_count": 4,
   "metadata": {},
   "outputs": [],
   "source": [
    "STAC_API_URL = \"https://staging-stac.delta-backend.com/\"\n",
    "RASTER_API_URL = \"https://staging-raster.delta-backend.com\""
   ]
  },
  {
   "attachments": {},
   "cell_type": "markdown",
   "metadata": {},
   "source": [
    "Use the `pystac_client` library to interact with the STAC data catalog"
   ]
  },
  {
   "cell_type": "code",
   "execution_count": 3,
   "metadata": {},
   "outputs": [],
   "source": [
    "catalog = Client.open(STAC_API_URL)"
   ]
  },
  {
   "attachments": {},
   "cell_type": "markdown",
   "metadata": {},
   "source": [
    "List all the datasets (collections) in the catalog"
   ]
  },
  {
   "cell_type": "code",
   "execution_count": null,
   "metadata": {},
   "outputs": [],
   "source": [
    "for collection in list(catalog.get_collections()):\n",
    "    print(f\"{collection.id} - {collection.title}\")"
   ]
  },
  {
   "attachments": {},
   "cell_type": "markdown",
   "metadata": {},
   "source": [
    "Choose a collection to work with\n",
    "\n",
    "Search all the items in the collection"
   ]
  },
  {
   "cell_type": "code",
   "execution_count": null,
   "metadata": {},
   "outputs": [],
   "source": [
    "collection_id = \"no2-monthly\"\n",
    "search = catalog.search(collections=[collection_id])\n",
    "items = list(search.items())\n",
    "items"
   ]
  },
  {
   "attachments": {},
   "cell_type": "markdown",
   "metadata": {},
   "source": [
    "Load and inspect one of the items"
   ]
  },
  {
   "cell_type": "code",
   "execution_count": 5,
   "metadata": {},
   "outputs": [
    {
     "ename": "NameError",
     "evalue": "name 'items' is not defined",
     "output_type": "error",
     "traceback": [
      "\u001b[0;31m---------------------------------------------------------------------------\u001b[0m",
      "\u001b[0;31mNameError\u001b[0m                                 Traceback (most recent call last)",
      "Cell \u001b[0;32mIn[5], line 1\u001b[0m\n\u001b[0;32m----> 1\u001b[0m items[\u001b[39m0\u001b[39m]\n",
      "\u001b[0;31mNameError\u001b[0m: name 'items' is not defined"
     ]
    }
   ],
   "source": [
    "items[0]"
   ]
  },
  {
   "cell_type": "code",
   "execution_count": 181,
   "metadata": {},
   "outputs": [],
   "source": [
    "s3_uri = items[0].assets[\"cog_default\"].href"
   ]
  },
  {
   "cell_type": "code",
   "execution_count": null,
   "metadata": {},
   "outputs": [],
   "source": [
    "stats = requests.get(\n",
    "    f\"{RASTER_API_URL}/cog/statistics\",\n",
    "    params={\"url\": s3_uri}\n",
    ").json()\n",
    "stats"
   ]
  },
  {
   "attachments": {},
   "cell_type": "markdown",
   "metadata": {},
   "source": [
    "**Display the COG in a map**"
   ]
  },
  {
   "attachments": {},
   "cell_type": "markdown",
   "metadata": {},
   "source": [
    "- Get the tiles endpoint for the file"
   ]
  },
  {
   "cell_type": "code",
   "execution_count": 10,
   "metadata": {},
   "outputs": [],
   "source": [
    "rescale = f\"{stats['b1']['min']},{stats['b1']['max']}\""
   ]
  },
  {
   "cell_type": "code",
   "execution_count": 11,
   "metadata": {},
   "outputs": [],
   "source": [
    "tiles = requests.get(\n",
    "    f\"{RASTER_API_URL}/stac/tilejson.json?collection={collection_id}&item={items[0].id}&assets=cog_default&colormap_name=rdbu_r&rescale={rescale}\"\n",
    ").json()"
   ]
  },
  {
   "cell_type": "code",
   "execution_count": 12,
   "metadata": {},
   "outputs": [],
   "source": [
    "tiles"
   ]
  },
  {
   "cell_type": "markdown",
   "metadata": {},
   "source": [
    "- Use the tiles to visualize the file in a map"
   ]
  },
  {
   "cell_type": "code",
   "execution_count": 1,
   "metadata": {},
   "outputs": [
    {
     "ename": "NameError",
     "evalue": "name 'folium' is not defined",
     "output_type": "error",
     "traceback": [
      "\u001b[0;31m---------------------------------------------------------------------------\u001b[0m",
      "\u001b[0;31mNameError\u001b[0m                                 Traceback (most recent call last)",
      "Cell \u001b[0;32mIn[1], line 1\u001b[0m\n\u001b[0;32m----> 1\u001b[0m m \u001b[39m=\u001b[39m folium\u001b[39m.\u001b[39mMap(\n\u001b[1;32m      2\u001b[0m     zoom_start\u001b[39m=\u001b[39m\u001b[39m6\u001b[39m,\n\u001b[1;32m      3\u001b[0m     scroll_wheel_zoom\u001b[39m=\u001b[39m\u001b[39mTrue\u001b[39;00m, \n\u001b[1;32m      4\u001b[0m     tiles\u001b[39m=\u001b[39m\u001b[39m\"\u001b[39m\u001b[39mopenstreetmap\u001b[39m\u001b[39m\"\u001b[39m, \n\u001b[1;32m      5\u001b[0m     attr\u001b[39m=\u001b[39m\u001b[39m\"\u001b[39m\u001b[39mVEDA\u001b[39m\u001b[39m\"\u001b[39m, \n\u001b[1;32m      6\u001b[0m     minzoom\u001b[39m=\u001b[39m\u001b[39m0\u001b[39m, \n\u001b[1;32m      7\u001b[0m     maxzoom\u001b[39m=\u001b[39m\u001b[39m18\u001b[39m,\n\u001b[1;32m      8\u001b[0m )\n\u001b[1;32m      9\u001b[0m folium\u001b[39m.\u001b[39mTileLayer(tiles[\u001b[39m\"\u001b[39m\u001b[39mtiles\u001b[39m\u001b[39m\"\u001b[39m][\u001b[39m0\u001b[39m], attr\u001b[39m=\u001b[39m\u001b[39m\"\u001b[39m\u001b[39mVEDA\u001b[39m\u001b[39m\"\u001b[39m)\u001b[39m.\u001b[39madd_to(m)\n",
      "\u001b[0;31mNameError\u001b[0m: name 'folium' is not defined"
     ]
    }
   ],
   "source": [
    "m = folium.Map(\n",
    "    zoom_start=6,\n",
    "    scroll_wheel_zoom=True, \n",
    "    tiles=\"openstreetmap\",\n",
    "    minzoom=0, \n",
    "    maxzoom=18,\n",
    ")\n",
    "folium.TileLayer(tiles[\"tiles\"][0], attr=\"VEDA\").add_to(m)"
   ]
  },
  {
   "cell_type": "code",
   "execution_count": null,
   "metadata": {},
   "outputs": [],
   "source": [
    "m"
   ]
  },
  {
   "attachments": {},
   "cell_type": "markdown",
   "metadata": {},
   "source": [
    "The same pattern can be used for reading other STAC Catalogs too. Here we read the collections from the NASA CMR STAC Catalog for CSDA:"
   ]
  },
  {
   "cell_type": "code",
   "execution_count": 2,
   "metadata": {},
   "outputs": [
    {
     "ename": "NameError",
     "evalue": "name 'Client' is not defined",
     "output_type": "error",
     "traceback": [
      "\u001b[0;31m---------------------------------------------------------------------------\u001b[0m",
      "\u001b[0;31mNameError\u001b[0m                                 Traceback (most recent call last)",
      "Cell \u001b[0;32mIn[2], line 2\u001b[0m\n\u001b[1;32m      1\u001b[0m csda_catalog_url \u001b[39m=\u001b[39m \u001b[39m\"\u001b[39m\u001b[39mhttps://cmr.earthdata.nasa.gov/stac/CSDA/collections/\u001b[39m\u001b[39m\"\u001b[39m\n\u001b[0;32m----> 2\u001b[0m csda_catalog \u001b[39m=\u001b[39m Client\u001b[39m.\u001b[39mopen(csda_catalog_url)\n\u001b[1;32m      3\u001b[0m csda_catalog\u001b[39m.\u001b[39mget_collections()\n",
      "\u001b[0;31mNameError\u001b[0m: name 'Client' is not defined"
     ]
    }
   ],
   "source": [
    "csda_catalog_url = \"https://cmr.earthdata.nasa.gov/stac/CSDA\"\n",
    "csda_catalog = Client.open(csda_catalog_url)\n",
    "for collection in list(csda_catalog.get_collections()):\n",
    "    print(f\"{collection.id} - {collection.title}\")"
   ]
  },
  {
   "attachments": {},
   "cell_type": "markdown",
   "metadata": {},
   "source": [
    "#### 2. Using the EOAPI to generate a time-series of OMI (Ozone Monitoring Instrument) NO₂ and SO₂ datasets"
   ]
  },
  {
   "attachments": {},
   "cell_type": "markdown",
   "metadata": {},
   "source": [
    "There's a story published in the EODashboard with the following title:\n",
    "\n",
    "> <h4> Nitrogen Dioxide and Sulfur Dioxide </h4>\n",
    "> A picture diary of air quality in the northeastern regions of India, China, and the United States. <br>\n",
    "\n",
    "\n",
    "Link: https://www.earthdata.nasa.gov/dashboard/stories/no2-and-so2\n",
    "\n",
    "The story talks about the trend of air pollution in India, China and the U.S. using the NO<sub>2</sub> and SO<sub>2</sub> readings grabbed from the OMI instrument\n",
    "\n",
    "Here, we'll recreate the analysis using the EOAPI."
   ]
  },
  {
   "cell_type": "markdown",
   "metadata": {},
   "source": []
  },
  {
   "cell_type": "code",
   "execution_count": 1,
   "metadata": {},
   "outputs": [],
   "source": [
    "# Here, we find the relevant collection ID for the dataset\n",
    "collections = {\n",
    "    \"no2\": \"OMI_trno2-COG\",\n",
    "    \"so2\": \"OMSO2PCA-COG\",\n",
    "}"
   ]
  },
  {
   "attachments": {},
   "cell_type": "markdown",
   "metadata": {},
   "source": [
    "Define the roughly similar Area of Interest (AOI) for each of the country as seen in the story"
   ]
  },
  {
   "cell_type": "code",
   "execution_count": 162,
   "metadata": {},
   "outputs": [],
   "source": [
    "aois = {\n",
    "    \"india\": {\n",
    "      \"type\": \"Feature\",\n",
    "      \"properties\": {},\n",
    "      \"geometry\": {\n",
    "        \"coordinates\": [\n",
    "          [\n",
    "            [\n",
    "              84.44227371801799,\n",
    "              25.276852788244952\n",
    "            ],\n",
    "            [\n",
    "              81.73331688510166,\n",
    "              25.379576397063317\n",
    "            ],\n",
    "            [\n",
    "              81.40290450746915,\n",
    "              20.640781701865322\n",
    "            ],\n",
    "            [\n",
    "              84.09079123546121,\n",
    "              20.59296261766137\n",
    "            ],\n",
    "            [\n",
    "              84.44227371801799,\n",
    "              25.276852788244952\n",
    "            ]\n",
    "          ]\n",
    "        ],\n",
    "        \"type\": \"Polygon\"\n",
    "      }\n",
    "    },\n",
    "    \"china\": {\n",
    "      \"type\": \"Feature\",\n",
    "      \"properties\": {},\n",
    "      \"geometry\": {\n",
    "        \"coordinates\": [\n",
    "          [\n",
    "            [\n",
    "              118.14487188674968,\n",
    "              40.38237805885373\n",
    "            ],\n",
    "            [\n",
    "              112.59679754686567,\n",
    "              40.39197699341523\n",
    "            ],\n",
    "            [\n",
    "              112.78712023622006,\n",
    "              32.015052150835814\n",
    "            ],\n",
    "            [\n",
    "              117.937454307721,\n",
    "              32.102440507249895\n",
    "            ],\n",
    "            [\n",
    "              118.14487188674968,\n",
    "              40.38237805885373\n",
    "            ]\n",
    "          ]\n",
    "        ],\n",
    "        \"type\": \"Polygon\"\n",
    "      }\n",
    "    },\n",
    "    \"usa\": {\n",
    "        \"type\": \"Feature\",\n",
    "        \"properties\": {},\n",
    "        \"geometry\": {\n",
    "            \"coordinates\": [\n",
    "            [\n",
    "                [\n",
    "                -80.16702521343733,\n",
    "                41.73420113945659\n",
    "                ],\n",
    "                [\n",
    "                -83.56446680395005,\n",
    "                38.599369254919566\n",
    "                ],\n",
    "                [\n",
    "                -82.00280661075571,\n",
    "                37.54658260550103\n",
    "                ],\n",
    "                [\n",
    "                -78.28140359718638,\n",
    "                40.450899619800595\n",
    "                ],\n",
    "                [\n",
    "                -80.16702521343733,\n",
    "                41.73420113945659\n",
    "                ]\n",
    "            ]\n",
    "            ],\n",
    "            \"type\": \"Polygon\"\n",
    "        }\n",
    "    },\n",
    "}"
   ]
  },
  {
   "attachments": {},
   "cell_type": "markdown",
   "metadata": {},
   "source": [
    "Define a function that takes the following params:\n",
    "  1. `item`: a STAC item\n",
    "  2. `geojson`: the geojson of the AOI\n",
    "\n",
    "Using the `/cog/statistics/` endpoint of the raster API, we get back the statistics of the `item` (which corresponds to one COG file) within the given `geojson` AOI.\n",
    "\n",
    "The statistics includes `min`, `max`, `mean`, `std`, etc."
   ]
  },
  {
   "cell_type": "code",
   "execution_count": 185,
   "metadata": {},
   "outputs": [],
   "source": [
    "# the bounding box should be passed to the geojson param as a geojson Feature or FeatureCollection\n",
    "def generate_stats(item, geojson):\n",
    "    result = requests.post(\n",
    "        f\"{RASTER_API_URL}/cog/statistics\", \n",
    "        params={\n",
    "            \"url\": item.assets[\"cog_default\"].href\n",
    "        },\n",
    "        json=geojson\n",
    "    ).json()\n",
    "    return {\n",
    "        **result[\"properties\"],\n",
    "        \"start_datetime\": str(item.properties.get(\"datetime\", item.properties.get(\"start_datetime\")))[:4],\n",
    "        \"collection\": item.collection_id\n",
    "    }"
   ]
  },
  {
   "attachments": {},
   "cell_type": "markdown",
   "metadata": {},
   "source": [
    "Let's start out with the US 🇺🇸 !\n",
    "\n",
    "We'll get all the items in the NO2 and SO2 collections and generate the statistics from them for the Ohio River Valley region of the United States."
   ]
  },
  {
   "cell_type": "code",
   "execution_count": 188,
   "metadata": {},
   "outputs": [],
   "source": [
    "usa_aoi = aois[\"usa\"]\n",
    "items = list(catalog.search(collections=[collections[\"no2\"], collections[\"so2\"]]).items())\n",
    "usa_stats = [\n",
    "    generate_stats(item, usa_aoi)\n",
    "    for item in items\n",
    "]"
   ]
  },
  {
   "attachments": {},
   "cell_type": "markdown",
   "metadata": {},
   "source": [
    "Create a function that takes the statistics (which is a json) and converts it to a pandas dataframe in a format that'll make it easy to read and visualize.\n",
    "\n",
    "We're only concerned with the `mean` statistics for this example. Specifically the change from the year 2005 in percentage. We'll use pandas to calculate this change percentage and assign it to the `change` column."
   ]
  },
  {
   "cell_type": "code",
   "execution_count": 187,
   "metadata": {},
   "outputs": [],
   "source": [
    "def clean_stats(stats_json) -> pd.DataFrame:\n",
    "    # convert the stats_json as is to pandas dataframe\n",
    "    df = pd.json_normalize(stats_json)\n",
    "    # simple renaming for readability\n",
    "    df.columns = [col.replace(\"statistics.b1.\", \"\") for col in df.columns]\n",
    "    # create a date column from the start_datetime column\n",
    "    df[\"date\"] = pd.to_datetime(df[\"start_datetime\"], format=\"%Y\")\n",
    "    # sort the dataframe by the date column\n",
    "    df = df.sort_values(by=[\"date\"])\n",
    "    # create a change column that calculates the change of the mean values from the value in 2005\n",
    "    df[\"change\"] = df.groupby(\"collection\", group_keys=False)[\"mean\"].apply(lambda x: x.div(x.iloc[0]).subtract(1).mul(100))\n",
    "    return df"
   ]
  },
  {
   "cell_type": "code",
   "execution_count": 189,
   "metadata": {},
   "outputs": [],
   "source": [
    "cleaned_stats_df = clean_stats(usa_stats)"
   ]
  },
  {
   "attachments": {},
   "cell_type": "markdown",
   "metadata": {},
   "source": [
    "We'll now create a time-series of the change in mean values for NO2 and SO2 for the area in the US."
   ]
  },
  {
   "cell_type": "code",
   "execution_count": 190,
   "metadata": {},
   "outputs": [],
   "source": [
    "plt.xticks([i for i in range(0, 21, 2)])\n",
    "sns.set_style(\"darkgrid\")\n",
    "ax = sns.lineplot(\n",
    "    x=\"start_datetime\",\n",
    "    y=\"change\",\n",
    "    hue=\"collection\",\n",
    "    data=cleaned_stats_df,\n",
    "    palette=[\"#2196f3\", \"#ff5722\"],\n",
    "    style=\"collection\",\n",
    "    markers=[\"*\", \"d\"]\n",
    ")\n",
    "ax.set_title(\"US - Ohio River Valley\")\n",
    "ax.set_xlabel(\"Years\")\n",
    "ax.set_ylabel(\"Change from 2005 (%)\")\n",
    "plt.legend(frameon=False, ncol=3)\n",
    "plt.show()"
   ]
  },
  {
   "attachments": {},
   "cell_type": "markdown",
   "metadata": {},
   "source": [
    "Now, let's create a function that creates this trend graph, given the country."
   ]
  },
  {
   "cell_type": "code",
   "execution_count": 215,
   "metadata": {},
   "outputs": [],
   "source": [
    "def create_chart(country):\n",
    "    stats = [generate_stats(item, aois[country]) for item in list(catalog.search(collections=[collections[\"no2\"], collections[\"so2\"]]).items())]\n",
    "    df = clean_stats(stats)\n",
    "\n",
    "    # Create a chart using Seaborn\n",
    "    plt.xticks([i for i in range(0, 21, 2)])\n",
    "    sns.set_style(\"darkgrid\")\n",
    "    ax = sns.lineplot(\n",
    "        x=\"date\",\n",
    "        y=\"change\",\n",
    "        hue=\"collection\",\n",
    "        data=df,\n",
    "        palette=[\"#2196f3\", \"#ff5722\"],\n",
    "        style=\"collection\",\n",
    "        markers=[\"*\", \"d\"]\n",
    "    )\n",
    "    ax.set_title(country.title())\n",
    "    ax.set_xlabel(\"Years\")\n",
    "    ax.set_ylabel(\"Change from 2005 (%)\")\n",
    "    plt.legend(frameon=False, ncol=3)\n",
    "    plt.show()"
   ]
  },
  {
   "attachments": {},
   "cell_type": "markdown",
   "metadata": {},
   "source": [
    "We can use this function to create charts for the rest of the AOIs."
   ]
  },
  {
   "attachments": {},
   "cell_type": "markdown",
   "metadata": {},
   "source": [
    "India 🇮🇳"
   ]
  },
  {
   "cell_type": "code",
   "execution_count": 216,
   "metadata": {},
   "outputs": [],
   "source": [
    "create_chart(\"india\")"
   ]
  },
  {
   "attachments": {},
   "cell_type": "markdown",
   "metadata": {},
   "source": [
    "China 🇨🇳"
   ]
  },
  {
   "cell_type": "code",
   "execution_count": 217,
   "metadata": {},
   "outputs": [],
   "source": [
    "create_chart(\"china\")"
   ]
  },
  {
   "cell_type": "code",
   "execution_count": null,
   "metadata": {},
   "outputs": [],
   "source": []
  }
 ],
 "metadata": {
  "kernelspec": {
   "display_name": "Python 3",
   "language": "python",
   "name": "python3"
  },
  "language_info": {
   "codemirror_mode": {
    "name": "ipython",
    "version": 3
   },
   "file_extension": ".py",
   "mimetype": "text/x-python",
   "name": "python",
   "nbconvert_exporter": "python",
   "pygments_lexer": "ipython3",
   "version": "3.11.5"
  },
  "orig_nbformat": 4,
  "vscode": {
   "interpreter": {
    "hash": "b0fa6594d8f4cbf19f97940f81e996739fb7646882a419484c72d19e05852a7e"
   }
  }
 },
 "nbformat": 4,
 "nbformat_minor": 2
}
